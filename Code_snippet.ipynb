{
 "cells": [
  {
   "cell_type": "code",
   "execution_count": 5,
   "id": "3fb63db0",
   "metadata": {},
   "outputs": [
    {
     "name": "stdout",
     "output_type": "stream",
     "text": [
      "lukaku\n"
     ]
    }
   ],
   "source": [
    "a = 100\n",
    "b = 99\n",
    "c= 98\n",
    "\n",
    "if a>b and b>c:\n",
    "    print('lukaku')"
   ]
  },
  {
   "cell_type": "code",
   "execution_count": 6,
   "id": "f6570d88",
   "metadata": {},
   "outputs": [
    {
     "name": "stdout",
     "output_type": "stream",
     "text": [
      "lukaku\n"
     ]
    }
   ],
   "source": [
    "if (a>b) and (b>c):\n",
    "    print('lukaku')"
   ]
  },
  {
   "cell_type": "code",
   "execution_count": 7,
   "id": "91665231",
   "metadata": {},
   "outputs": [
    {
     "name": "stdout",
     "output_type": "stream",
     "text": [
      "lukaku\n"
     ]
    }
   ],
   "source": [
    "if a>b or b>c:\n",
    "    print('lukaku')"
   ]
  },
  {
   "cell_type": "code",
   "execution_count": 8,
   "id": "e98e5235",
   "metadata": {},
   "outputs": [
    {
     "name": "stdout",
     "output_type": "stream",
     "text": [
      "Rune copenhagen\n"
     ]
    }
   ],
   "source": [
    "def denmark(name, city):\n",
    "    print(name, city)\n",
    "denmark(\"Rune\", \"copenhagen\")"
   ]
  },
  {
   "cell_type": "code",
   "execution_count": 10,
   "id": "ef862246",
   "metadata": {},
   "outputs": [
    {
     "name": "stdout",
     "output_type": "stream",
     "text": [
      "hello to Mils\n",
      "hello now Bosnia\n"
     ]
    }
   ],
   "source": [
    "def Lublijana(name1, city1):\n",
    "    print(\"hello to\", name1)\n",
    "    print(\"hello now\", city1)\n",
    "Lublijana(\"Mils\", \"Bosnia\")"
   ]
  },
  {
   "cell_type": "code",
   "execution_count": 12,
   "id": "6ef5c152",
   "metadata": {},
   "outputs": [
    {
     "name": "stdout",
     "output_type": "stream",
     "text": [
      "hello to copenhagen\n",
      "you are in schengen\n"
     ]
    }
   ],
   "source": [
    "def country(capital, region):\n",
    "    print(f\"hello to {capital}\")\n",
    "    print(f\"you are in {region}\")\n",
    "country(\"copenhagen\", \"schengen\")"
   ]
  },
  {
   "cell_type": "code",
   "execution_count": 13,
   "id": "5b4355c1",
   "metadata": {},
   "outputs": [
    {
     "name": "stdout",
     "output_type": "stream",
     "text": [
      "81\n",
      "81\n"
     ]
    }
   ],
   "source": [
    "def func(x,y):\n",
    "    print(x*x)\n",
    "    print(y*y)\n",
    "func(9,9)"
   ]
  },
  {
   "cell_type": "code",
   "execution_count": null,
   "id": "d7025e72",
   "metadata": {},
   "outputs": [],
   "source": []
  }
 ],
 "metadata": {
  "kernelspec": {
   "display_name": "Python 3 (ipykernel)",
   "language": "python",
   "name": "python3"
  },
  "language_info": {
   "codemirror_mode": {
    "name": "ipython",
    "version": 3
   },
   "file_extension": ".py",
   "mimetype": "text/x-python",
   "name": "python",
   "nbconvert_exporter": "python",
   "pygments_lexer": "ipython3",
   "version": "3.9.12"
  }
 },
 "nbformat": 4,
 "nbformat_minor": 5
}
