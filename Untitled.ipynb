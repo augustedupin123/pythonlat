{
 "cells": [
  {
   "cell_type": "code",
   "execution_count": 1,
   "id": "c65c701f",
   "metadata": {},
   "outputs": [
    {
     "data": {
      "text/plain": [
       "14"
      ]
     },
     "execution_count": 1,
     "metadata": {},
     "output_type": "execute_result"
    }
   ],
   "source": [
    "100//7\n"
   ]
  },
  {
   "cell_type": "code",
   "execution_count": 2,
   "id": "4acfbeb8",
   "metadata": {},
   "outputs": [
    {
     "data": {
      "text/plain": [
       "2"
      ]
     },
     "execution_count": 2,
     "metadata": {},
     "output_type": "execute_result"
    }
   ],
   "source": [
    "100%7"
   ]
  },
  {
   "cell_type": "code",
   "execution_count": 3,
   "id": "0ac7cdfb",
   "metadata": {},
   "outputs": [
    {
     "data": {
      "text/plain": [
       "125"
      ]
     },
     "execution_count": 3,
     "metadata": {},
     "output_type": "execute_result"
    }
   ],
   "source": [
    "5**3"
   ]
  },
  {
   "cell_type": "code",
   "execution_count": 4,
   "id": "b3f2eff1",
   "metadata": {},
   "outputs": [],
   "source": [
    "#above are some arithmetic operations"
   ]
  },
  {
   "cell_type": "code",
   "execution_count": null,
   "id": "ce3d5374",
   "metadata": {},
   "outputs": [],
   "source": [
    "## sdlfjkfsng\n"
   ]
  },
  {
   "cell_type": "code",
   "execution_count": 10,
   "id": "3ab607e4",
   "metadata": {},
   "outputs": [
    {
     "name": "stdout",
     "output_type": "stream",
     "text": [
      "<class 'int'>\n"
     ]
    }
   ],
   "source": [
    "a_variable = 23\n",
    "is_today_saturday = False\n",
    "my_fav_car = 'Delorean'\n",
    "the_3_musketeers = ['Athos', 'Porthos', 'Aramis']\n",
    "print(type(a_variable))"
   ]
  },
  {
   "cell_type": "code",
   "execution_count": null,
   "id": "cafafc5c",
   "metadata": {},
   "outputs": [],
   "source": []
  },
  {
   "cell_type": "code",
   "execution_count": null,
   "id": "8ca5fd58",
   "metadata": {},
   "outputs": [],
   "source": []
  }
 ],
 "metadata": {
  "kernelspec": {
   "display_name": "Python 3 (ipykernel)",
   "language": "python",
   "name": "python3"
  },
  "language_info": {
   "codemirror_mode": {
    "name": "ipython",
    "version": 3
   },
   "file_extension": ".py",
   "mimetype": "text/x-python",
   "name": "python",
   "nbconvert_exporter": "python",
   "pygments_lexer": "ipython3",
   "version": "3.9.12"
  }
 },
 "nbformat": 4,
 "nbformat_minor": 5
}
