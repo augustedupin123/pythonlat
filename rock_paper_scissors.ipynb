{
 "cells": [
  {
   "cell_type": "code",
   "execution_count": null,
   "id": "2b333407",
   "metadata": {},
   "outputs": [],
   "source": [
    "import random"
   ]
  },
  {
   "cell_type": "code",
   "execution_count": null,
   "id": "add40377",
   "metadata": {},
   "outputs": [],
   "source": [
    "print(\"Enter choice: 1. Rock 2. Paper 3 . Scissor\")\n",
    "choice = input(\"Choice (1/2/3):\")\n",
    "choice = int(choice)\n",
    "\n",
    "computer_choice = random.randint(1,3)\n",
    "if (choice == computer_choice):\n",
    "    print(\"Draw\")\n",
    "elif choice == 1:\n",
    "    if (computer_choice == 2):\n",
    "        print(\"computer wins\")\n",
    "    else:\n",
    "        print(\"You win\")\n",
    "elif choice == 2:\n",
    "    if (computer_choice == 1):\n",
    "        print(\"computer wins\")\n",
    "    else:\n",
    "        print(\"You win\")\n",
    "elif choice == 3:\n",
    "    if (computer_choice == 1):\n",
    "        print(\"computer wins\")\n",
    "    else:\n",
    "        print(\"You win\")\n"
   ]
  }
 ],
 "metadata": {
  "kernelspec": {
   "display_name": "Python 3 (ipykernel)",
   "language": "python",
   "name": "python3"
  },
  "language_info": {
   "codemirror_mode": {
    "name": "ipython",
    "version": 3
   },
   "file_extension": ".py",
   "mimetype": "text/x-python",
   "name": "python",
   "nbconvert_exporter": "python",
   "pygments_lexer": "ipython3",
   "version": "3.9.12"
  }
 },
 "nbformat": 4,
 "nbformat_minor": 5
}
