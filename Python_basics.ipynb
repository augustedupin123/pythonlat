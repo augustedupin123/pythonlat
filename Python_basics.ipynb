{
 "cells": [
  {
   "cell_type": "code",
   "execution_count": 1,
   "id": "824b097f",
   "metadata": {},
   "outputs": [
    {
     "data": {
      "text/plain": [
       "14"
      ]
     },
     "execution_count": 1,
     "metadata": {},
     "output_type": "execute_result"
    }
   ],
   "source": [
    "100//7\n"
   ]
  },
  {
   "cell_type": "code",
   "execution_count": 2,
   "id": "c77b0484",
   "metadata": {},
   "outputs": [
    {
     "data": {
      "text/plain": [
       "2"
      ]
     },
     "execution_count": 2,
     "metadata": {},
     "output_type": "execute_result"
    }
   ],
   "source": [
    "100%7"
   ]
  },
  {
   "cell_type": "code",
   "execution_count": 3,
   "id": "dc20235b",
   "metadata": {},
   "outputs": [
    {
     "data": {
      "text/plain": [
       "125"
      ]
     },
     "execution_count": 3,
     "metadata": {},
     "output_type": "execute_result"
    }
   ],
   "source": [
    "5**3"
   ]
  },
  {
   "cell_type": "code",
   "execution_count": 4,
   "id": "3110b36f",
   "metadata": {},
   "outputs": [],
   "source": [
    "#above are some arithmetic operations"
   ]
  },
  {
   "cell_type": "code",
   "execution_count": null,
   "id": "96b95727",
   "metadata": {},
   "outputs": [],
   "source": [
    "## sdlfjkfsng\n"
   ]
  },
  {
   "cell_type": "code",
   "execution_count": 10,
   "id": "0ff73e50",
   "metadata": {},
   "outputs": [
    {
     "name": "stdout",
     "output_type": "stream",
     "text": [
      "<class 'int'>\n"
     ]
    }
   ],
   "source": [
    "a_variable = 23\n",
    "is_today_saturday = False\n",
    "my_fav_car = 'Delorean'\n",
    "the_3_musketeers = ['Athos', 'Porthos', 'Aramis']\n",
    "print(type(a_variable))"
   ]
  },
  {
   "cell_type": "code",
   "execution_count": 12,
   "id": "c641d0d5",
   "metadata": {},
   "outputs": [
    {
     "data": {
      "text/plain": [
       "int"
      ]
     },
     "execution_count": 12,
     "metadata": {},
     "output_type": "execute_result"
    }
   ],
   "source": [
    "a = 10\n",
    "type(a)"
   ]
  },
  {
   "cell_type": "code",
   "execution_count": null,
   "id": "ef871c17",
   "metadata": {},
   "outputs": [],
   "source": [
    "#float are numbers with a decimal point"
   ]
  },
  {
   "cell_type": "code",
   "execution_count": 13,
   "id": "ec4a6d04",
   "metadata": {},
   "outputs": [
    {
     "data": {
      "text/plain": [
       "True"
      ]
     },
     "execution_count": 13,
     "metadata": {},
     "output_type": "execute_result"
    }
   ],
   "source": [
    "cost_of_ice_bag = 1.23\n",
    "is_ice_bag_expensive = cost_of_ice_bag < 1.25\n",
    "is_ice_bag_expensive"
   ]
  },
  {
   "cell_type": "code",
   "execution_count": null,
   "id": "c87a9d7e",
   "metadata": {},
   "outputs": [],
   "source": [
    "#Above variable 'is_ice_bag_expensive' is example of a boolean variable whose return type is True or False"
   ]
  },
  {
   "cell_type": "code",
   "execution_count": 14,
   "id": "a5394669",
   "metadata": {},
   "outputs": [
    {
     "data": {
      "text/plain": [
       "'\\naskjfsbgf\\nasdfjbsdjkfb'"
      ]
     },
     "execution_count": 14,
     "metadata": {},
     "output_type": "execute_result"
    }
   ],
   "source": [
    "multiline_string = '''\n",
    "askjfsbgf\n",
    "asdfjbsdjkfb'''\n",
    "multiline_string"
   ]
  },
  {
   "cell_type": "code",
   "execution_count": 18,
   "id": "11f864d3",
   "metadata": {},
   "outputs": [
    {
     "name": "stdout",
     "output_type": "stream",
     "text": [
      "Derek_Obrien\n",
      "\n",
      "\n",
      "mamta_banerjee\n"
     ]
    }
   ],
   "source": [
    "full_name = 'Derek_Obrien'\n",
    "abc1 = 'mamta_banerjee'\n",
    "full_name + \" \" + abc1\n",
    "print(full_name)\n",
    "print('\\n')\n",
    "print(abc1)\n"
   ]
  },
  {
   "cell_type": "code",
   "execution_count": null,
   "id": "695367dd",
   "metadata": {},
   "outputs": [],
   "source": [
    "# .lower(), .capitalize(), .upper() are methods used to change the case of characters"
   ]
  },
  {
   "cell_type": "code",
   "execution_count": 19,
   "id": "8b56de55",
   "metadata": {},
   "outputs": [
    {
     "name": "stdout",
     "output_type": "stream",
     "text": [
      "thursday\n"
     ]
    }
   ],
   "source": [
    "day = 'wednesday'\n",
    "day1 = day.replace('wednes','thurs')\n",
    "print(day1)"
   ]
  },
  {
   "cell_type": "code",
   "execution_count": null,
   "id": "38800f05",
   "metadata": {},
   "outputs": [],
   "source": [
    "# .replace function replaces part of the string\n",
    "# any string method returns a new string, they don't modify the original string"
   ]
  },
  {
   "cell_type": "code",
   "execution_count": 22,
   "id": "a87b37fc",
   "metadata": {},
   "outputs": [
    {
     "data": {
      "text/plain": [
       "'jh kjg lihjn lijhij'"
      ]
     },
     "execution_count": 22,
     "metadata": {},
     "output_type": "execute_result"
    }
   ],
   "source": [
    "v = '                 jh kjg lihjn lijhij'\n",
    "v1 = v.strip()\n",
    "v1"
   ]
  },
  {
   "cell_type": "code",
   "execution_count": null,
   "id": "7e60d664",
   "metadata": {},
   "outputs": [],
   "source": [
    "#above strip function is used to remove whitespace characters from beginning and end of a string"
   ]
  },
  {
   "cell_type": "code",
   "execution_count": 24,
   "id": "a2fdcda7",
   "metadata": {},
   "outputs": [
    {
     "name": "stdout",
     "output_type": "stream",
     "text": [
      "[10, 20]\n"
     ]
    }
   ],
   "source": [
    "a = [10,20]\n",
    "print(str(a))"
   ]
  },
  {
   "cell_type": "code",
   "execution_count": 30,
   "id": "f729c224",
   "metadata": {},
   "outputs": [
    {
     "name": "stdout",
     "output_type": "stream",
     "text": [
      "['zjsdfbjsdnf', 'k']\n"
     ]
    }
   ],
   "source": [
    "t = 'zjsdfbjsdnf k'\n",
    "t1 = t.split(' ')\n",
    "print(t1)"
   ]
  },
  {
   "cell_type": "code",
   "execution_count": 7,
   "id": "91a63b80",
   "metadata": {},
   "outputs": [
    {
     "name": "stdout",
     "output_type": "stream",
     "text": [
      "[23, 'hello', None, 3.55, 'vegetables', True]\n",
      "6\n",
      "[None, 3.55, 'vegetables']\n",
      "[None, 3.55, 'vegetables', True]\n",
      "[23, 'hello', None, 3.55, 'vegetables']\n"
     ]
    }
   ],
   "source": [
    "a_list = [23, 'hello', None, 3.55, 'vegetables', 3<=5]\n",
    "print(a_list)\n",
    "print(len(a_list))\n",
    "print(a_list[2:5])\n",
    "print(a_list[2:])\n",
    "print(a_list[:5])"
   ]
  },
  {
   "cell_type": "code",
   "execution_count": 11,
   "id": "bcf3e23c",
   "metadata": {},
   "outputs": [
    {
     "data": {
      "text/plain": [
       "['barcelona', 'naples', 'lodz', 'prague', 'lisbon', 'munich', 'paris']"
      ]
     },
     "execution_count": 11,
     "metadata": {},
     "output_type": "execute_result"
    }
   ],
   "source": [
    "city = ['barcelona', 'naples', 'prague']\n",
    "city.append('lisbon')\n",
    "city\n",
    "city.append('munich')\n",
    "city\n",
    "city.append('paris')\n",
    "city\n",
    "city.insert(2, 'lodz')\n",
    "city"
   ]
  },
  {
   "cell_type": "code",
   "execution_count": null,
   "id": "db4f87fa",
   "metadata": {},
   "outputs": [],
   "source": [
    "#Adding values in the list above"
   ]
  },
  {
   "cell_type": "code",
   "execution_count": null,
   "id": "87915eb3",
   "metadata": {},
   "outputs": [],
   "source": [
    "#removing values below using pop:"
   ]
  },
  {
   "cell_type": "code",
   "execution_count": 16,
   "id": "b60927e3",
   "metadata": {},
   "outputs": [
    {
     "data": {
      "text/plain": [
       "['barcelona', 'prague', 'stratsbourg']"
      ]
     },
     "execution_count": 16,
     "metadata": {},
     "output_type": "execute_result"
    }
   ],
   "source": [
    "city = ['barcelona', 'naples', 'prague']\n",
    "city.pop(1)\n",
    "city\n",
    "city.append('stratsbourg')\n",
    "city"
   ]
  },
  {
   "cell_type": "code",
   "execution_count": null,
   "id": "ecccb543",
   "metadata": {},
   "outputs": [],
   "source": [
    "#copy method, remove method, pop method"
   ]
  },
  {
   "cell_type": "code",
   "execution_count": 18,
   "id": "4ca23653",
   "metadata": {},
   "outputs": [
    {
     "data": {
      "text/plain": [
       "['barcelona', 'prague', 'marseilles', 'lyon', 'newcastle']"
      ]
     },
     "execution_count": 18,
     "metadata": {},
     "output_type": "execute_result"
    }
   ],
   "source": [
    "city = ['barcelona', 'naples', 'prague', 'marseilles', 'lyon', 'newcastle']\n",
    "city1 = city.copy()\n",
    "city1\n",
    "city1.remove('naples')\n",
    "city1"
   ]
  },
  {
   "cell_type": "code",
   "execution_count": 24,
   "id": "ebdcf898",
   "metadata": {},
   "outputs": [
    {
     "data": {
      "text/plain": [
       "'tressemme'"
      ]
     },
     "execution_count": 24,
     "metadata": {},
     "output_type": "execute_result"
    }
   ],
   "source": [
    "#TUPLE:\n",
    "\n",
    "#A tuple is an ordered collection of values, which is immutable, which means not possible to add, remove or modify values in a tuple.\n",
    "\n",
    "shampoo = ('head and shoulder', 'garnier', 'tressemme', 'Vatika', 'Biotoque')\n",
    "len(shampoo)\n",
    "shampoo[-2]\n",
    "shampoo[2]\n"
   ]
  },
  {
   "cell_type": "code",
   "execution_count": 28,
   "id": "726d89a5",
   "metadata": {},
   "outputs": [
    {
     "data": {
      "text/plain": [
       "['head and shoulder', 'garnier', 'tressemme', 'Vatika', 'Biotoque']"
      ]
     },
     "execution_count": 28,
     "metadata": {},
     "output_type": "execute_result"
    }
   ],
   "source": [
    "shampoo = ('head and shoulder', 'garnier', 'tressemme', 'Vatika', 'Biotoque')\n",
    "shampoo1 = list((shampoo))\n",
    "shampoo1"
   ]
  },
  {
   "cell_type": "code",
   "execution_count": 31,
   "id": "f3beb50d",
   "metadata": {},
   "outputs": [
    {
     "data": {
      "text/plain": [
       "('crayfish', 'prawn', 'catfish')"
      ]
     },
     "execution_count": 31,
     "metadata": {},
     "output_type": "execute_result"
    }
   ],
   "source": [
    "fish = ['crayfish', 'prawn', 'catfish']\n",
    "fish2 = tuple((fish))\n",
    "fish2"
   ]
  },
  {
   "cell_type": "code",
   "execution_count": 33,
   "id": "656862a8",
   "metadata": {},
   "outputs": [
    {
     "data": {
      "text/plain": [
       "3"
      ]
     },
     "execution_count": 33,
     "metadata": {},
     "output_type": "execute_result"
    }
   ],
   "source": [
    "soap = ['dove', 'medimix','lifebuoy', 'cinthol','lifebuoy']\n",
    "soap.count('lifebuoy')\n",
    "soap.index('cinthol')"
   ]
  },
  {
   "cell_type": "code",
   "execution_count": null,
   "id": "e6316dec",
   "metadata": {},
   "outputs": [],
   "source": [
    "#Tuple has only 2 built in methods, count (no. of instances of an entry, index which returns index of an entry)"
   ]
  },
  {
   "cell_type": "code",
   "execution_count": null,
   "id": "87a5186a",
   "metadata": {},
   "outputs": [],
   "source": [
    "#DICTIONARY: unordered collection of items, each item stored in a dictionary has a key and a value. Keys are used to retrieve values from\n",
    "# a dictionary. Dictionaries have the type dict. Dictionaries are used to store many types of information, eg details about a person.\n",
    "# Dictionaries are created by enclosing key-value pairs in curly brackets."
   ]
  },
  {
   "cell_type": "code",
   "execution_count": null,
   "id": "792b8ef5",
   "metadata": {},
   "outputs": [],
   "source": [
    "person1 = {\n",
    "    'name': 'John Adam',\n",
    "    'sex': 'Male'\n",
    "    'age': 30,\n",
    "    'married': True\n",
    "    \n",
    "}"
   ]
  },
  {
   "cell_type": "code",
   "execution_count": 43,
   "id": "2fda0908",
   "metadata": {},
   "outputs": [
    {
     "name": "stdout",
     "output_type": "stream",
     "text": [
      "{'name': 'Jacob Rees', 'sex': 'Male', 'age': 50, 'married': True}\n",
      "<class 'dict'>\n",
      "Jacob Rees\n",
      "{'name': 'Jacob Rees', 'sex': 'Male', 'age': 50, 'married': True, 'address': ['1, Penny Lane']}\n"
     ]
    }
   ],
   "source": [
    "person2 = dict(name= 'Jacob Rees',\n",
    "    sex= 'Male',\n",
    "    age= 50,\n",
    "    married= True)\n",
    "print(person2)\n",
    "print(type(person2))\n",
    "print(person2['name'])\n",
    "\n",
    "#Adding new key value pair in the dictionary\n",
    "\n",
    "person2['address'] = ['1, Penny Lane']\n",
    "print(person2)"
   ]
  }
 ],
 "metadata": {
  "kernelspec": {
   "display_name": "Python 3 (ipykernel)",
   "language": "python",
   "name": "python3"
  },
  "language_info": {
   "codemirror_mode": {
    "name": "ipython",
    "version": 3
   },
   "file_extension": ".py",
   "mimetype": "text/x-python",
   "name": "python",
   "nbconvert_exporter": "python",
   "pygments_lexer": "ipython3",
   "version": "3.9.12"
  }
 },
 "nbformat": 4,
 "nbformat_minor": 5
}
