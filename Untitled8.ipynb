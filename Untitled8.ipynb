{
 "cells": [
  {
   "cell_type": "code",
   "execution_count": null,
   "id": "acbba4af",
   "metadata": {},
   "outputs": [],
   "source": [
    "index student name\n",
    "1       A\n",
    "2       B\n",
    "3       C\n",
    "4       D\n",
    "5       E\n"
   ]
  },
  {
   "cell_type": "code",
   "execution_count": null,
   "id": "08e87947",
   "metadata": {},
   "outputs": [],
   "source": [
    "index student name\n",
    "1       B\n",
    "2       A\n",
    "3       D\n",
    "4       C\n",
    "5       E\n"
   ]
  },
  {
   "cell_type": "code",
   "execution_count": 11,
   "id": "c947c606",
   "metadata": {},
   "outputs": [
    {
     "name": "stdout",
     "output_type": "stream",
     "text": [
      "['eoue', 'oy', 'aay', '']\n"
     ]
    }
   ],
   "source": [
    "str1 = ['w3resource', 'Pythony', 'Javay', 'C++']\n",
    "str2 = ['a', 'e', 'i', 'o', 'u']\n",
    "list1 = []\n",
    "st1 = ''\n",
    "for i in range(len(str1)):\n",
    "    st2 = ''\n",
    "    \n",
    "    for j in str1[i]:\n",
    "        \n",
    "        \n",
    "        if(j in str2):\n",
    "            st2+=j\n",
    "    if(str1[i][-1] == 'y'):\n",
    "            st2 += 'y'\n",
    "        \n",
    "        \n",
    "    list1.append(st2)\n",
    "   \n",
    "            \n",
    "print(list1)\n",
    "    \n"
   ]
  },
  {
   "cell_type": "code",
   "execution_count": 21,
   "id": "373afa11",
   "metadata": {},
   "outputs": [
    {
     "name": "stdout",
     "output_type": "stream",
     "text": [
      "41\n"
     ]
    },
    {
     "ename": "ValueError",
     "evalue": "max() arg is an empty sequence",
     "output_type": "error",
     "traceback": [
      "\u001b[1;31m---------------------------------------------------------------------------\u001b[0m",
      "\u001b[1;31mValueError\u001b[0m                                Traceback (most recent call last)",
      "Input \u001b[1;32mIn [21]\u001b[0m, in \u001b[0;36m<cell line: 9>\u001b[1;34m()\u001b[0m\n\u001b[0;32m     13\u001b[0m         \u001b[38;5;28;01mfor\u001b[39;00m j \u001b[38;5;129;01min\u001b[39;00m \u001b[38;5;28mrange\u001b[39m(\u001b[38;5;241m0\u001b[39m,i):\n\u001b[0;32m     14\u001b[0m             list2\u001b[38;5;241m.\u001b[39mappend(st1[i][j])\n\u001b[1;32m---> 16\u001b[0m         list1\u001b[38;5;241m.\u001b[39mappend(\u001b[38;5;28;43mmax\u001b[39;49m\u001b[43m(\u001b[49m\u001b[43mlist2\u001b[49m\u001b[43m)\u001b[49m)\n\u001b[0;32m     19\u001b[0m \u001b[38;5;28mprint\u001b[39m(list1)\n",
      "\u001b[1;31mValueError\u001b[0m: max() arg is an empty sequence"
     ]
    }
   ],
   "source": [
    "st1 = [0, -1, 3, 8, 5, 9, 8, 14, 2, 4, 3, -10, 10, 17, 41, 22, -4, -4, -15, 0]\n",
    "\n",
    "print(max(st1))\n",
    "\n",
    "list1 = []\n",
    "\n",
    "list1.append(0)\n",
    "\n",
    "for i in range(len(st1)):\n",
    "        \n",
    "        list2 = []\n",
    "        \n",
    "        for j in range(0,i):\n",
    "            list2.append(st1[i][j])\n",
    "        \n",
    "        list1.append(max(list2))\n",
    "\n",
    "        \n",
    "print(list1)\n",
    "\n",
    "    \n",
    "            \n",
    "        \n",
    "    \n",
    "\n",
    "\n",
    "\n"
   ]
  },
  {
   "cell_type": "code",
   "execution_count": 25,
   "id": "4cc9e193",
   "metadata": {},
   "outputs": [
    {
     "name": "stdout",
     "output_type": "stream",
     "text": [
      "52\n",
      "53\n",
      "54\n",
      "55\n",
      "56\n",
      "57\n",
      "58\n",
      "59\n",
      "60\n"
     ]
    }
   ],
   "source": [
    "for i in range(52, 61):\n",
    "    print(i)"
   ]
  },
  {
   "cell_type": "code",
   "execution_count": 37,
   "id": "edd0c21e",
   "metadata": {},
   "outputs": [
    {
     "name": "stdout",
     "output_type": "stream",
     "text": [
      "[0, 0, 3, 8, 8, 9, 9, 14, 14, 14, 14, 14, 14, 17, 41, 41, 41, 41, 41, 41]\n"
     ]
    }
   ],
   "source": [
    "def test(nums):\n",
    "    return [max(nums[:i]) for i in range(1, len(nums) + 1)]\n",
    "nums = [0, -1, 3, 8, 5, 9, 8, 14, 2, 4, 3, -10, 10, 17, 41, 22, -4, -4, -15, 0]\n",
    "print(test(nums))"
   ]
  },
  {
   "cell_type": "code",
   "execution_count": null,
   "id": "25fa8284",
   "metadata": {},
   "outputs": [],
   "source": []
  },
  {
   "cell_type": "code",
   "execution_count": null,
   "id": "ac62addc",
   "metadata": {},
   "outputs": [],
   "source": []
  },
  {
   "cell_type": "code",
   "execution_count": null,
   "id": "638ef64f",
   "metadata": {},
   "outputs": [],
   "source": []
  },
  {
   "cell_type": "code",
   "execution_count": null,
   "id": "e7e5467a",
   "metadata": {},
   "outputs": [],
   "source": []
  },
  {
   "cell_type": "code",
   "execution_count": null,
   "id": "54cb4cec",
   "metadata": {},
   "outputs": [],
   "source": []
  },
  {
   "cell_type": "code",
   "execution_count": null,
   "id": "6092e860",
   "metadata": {},
   "outputs": [],
   "source": []
  },
  {
   "cell_type": "code",
   "execution_count": null,
   "id": "db48fbbb",
   "metadata": {},
   "outputs": [],
   "source": []
  }
 ],
 "metadata": {
  "kernelspec": {
   "display_name": "Python 3 (ipykernel)",
   "language": "python",
   "name": "python3"
  },
  "language_info": {
   "codemirror_mode": {
    "name": "ipython",
    "version": 3
   },
   "file_extension": ".py",
   "mimetype": "text/x-python",
   "name": "python",
   "nbconvert_exporter": "python",
   "pygments_lexer": "ipython3",
   "version": "3.9.12"
  }
 },
 "nbformat": 4,
 "nbformat_minor": 5
}
