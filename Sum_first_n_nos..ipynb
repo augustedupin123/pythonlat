{
 "cells": [
  {
   "cell_type": "code",
   "execution_count": null,
   "id": "d884db7d",
   "metadata": {},
   "outputs": [],
   "source": [
    "num = int(input(\"how many nos.\"))\n",
    "total_sum = 0\n",
    "\n",
    "for i in range(num):\n",
    "    numbers = float(input(\"enter any number\"))\n",
    "    total_sum+=numbers\n",
    "avg = total_sum/numbers\n",
    "\n",
    "    "
   ]
  }
 ],
 "metadata": {
  "kernelspec": {
   "display_name": "Python 3 (ipykernel)",
   "language": "python",
   "name": "python3"
  },
  "language_info": {
   "codemirror_mode": {
    "name": "ipython",
    "version": 3
   },
   "file_extension": ".py",
   "mimetype": "text/x-python",
   "name": "python",
   "nbconvert_exporter": "python",
   "pygments_lexer": "ipython3",
   "version": "3.9.12"
  }
 },
 "nbformat": 4,
 "nbformat_minor": 5
}
