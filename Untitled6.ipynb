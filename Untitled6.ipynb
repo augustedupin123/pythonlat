{
 "cells": [
  {
   "cell_type": "code",
   "execution_count": 8,
   "id": "ff547057",
   "metadata": {},
   "outputs": [
    {
     "name": "stdout",
     "output_type": "stream",
     "text": [
      "a b\n"
     ]
    }
   ],
   "source": [
    "print(\"a\", end=\" \")\n",
    "print(\"b\")"
   ]
  },
  {
   "cell_type": "code",
   "execution_count": 13,
   "id": "f1aafc0c",
   "metadata": {},
   "outputs": [
    {
     "name": "stdout",
     "output_type": "stream",
     "text": [
      "G\n",
      "[0, 2, 3, 6]\n"
     ]
    }
   ],
   "source": [
    "my_list = ['G', 'S', 'G', 'G', 'D', 'R', 'G'] \n",
    "\n",
    "a = input()\n",
    "list_1 = []\n",
    "for i in range(len(my_list)):\n",
    "    if(my_list[i]==a):\n",
    "        list_1.append(i)\n",
    "print(list_1)"
   ]
  },
  {
   "cell_type": "code",
   "execution_count": null,
   "id": "ae7f074d",
   "metadata": {},
   "outputs": [],
   "source": []
  }
 ],
 "metadata": {
  "kernelspec": {
   "display_name": "Python 3 (ipykernel)",
   "language": "python",
   "name": "python3"
  },
  "language_info": {
   "codemirror_mode": {
    "name": "ipython",
    "version": 3
   },
   "file_extension": ".py",
   "mimetype": "text/x-python",
   "name": "python",
   "nbconvert_exporter": "python",
   "pygments_lexer": "ipython3",
   "version": "3.9.12"
  }
 },
 "nbformat": 4,
 "nbformat_minor": 5
}
