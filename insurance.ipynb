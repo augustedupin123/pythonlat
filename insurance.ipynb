{
 "cells": [
  {
   "cell_type": "markdown",
   "id": "18ccc6f0",
   "metadata": {},
   "source": [
    "# Insurance"
   ]
  },
  {
   "cell_type": "code",
   "execution_count": 1,
   "id": "a50d4197",
   "metadata": {},
   "outputs": [
    {
     "name": "stdout",
     "output_type": "stream",
     "text": [
      "what is your gender (M/F):M\n",
      "Male\n",
      "What is your age? 26\n",
      "Less/equal to 26\n",
      "what is the market price of your car?10000\n",
      "Insurance offer: 2300.0\n"
     ]
    }
   ],
   "source": [
    "gender = input(\"what is your gender (M/F):\")\n",
    "gender = gender.upper()\n",
    "if gender == 'M':\n",
    "    print('Male')\n",
    "    age = input(\"What is your age? \")\n",
    "    age = int(age)\n",
    "    if age<=26:\n",
    "        print(\"Less/equal to 26\")\n",
    "        percentage = 23\n",
    "    else:\n",
    "        print(\"more than 26\")\n",
    "        percentage = 9\n",
    "elif gender == \"F\":\n",
    "    print(\"Female\")\n",
    "    car_type = input(\"What is your car type (sports/non sports)\")\n",
    "    car_type = car_type.upper()\n",
    "    if car_type == \"SPORTS\":\n",
    "        print(\"Sports car\")\n",
    "        percentage = 21\n",
    "    else:\n",
    "        print(\"Non sports-car\")\n",
    "        percentage = 10\n",
    "else:\n",
    "    print(\"wrong format\")\n",
    "    percentage = None\n",
    "market_price = input(\"what is the market price of your car?\")\n",
    "market_price = int(market_price)\n",
    "\n",
    "insurance_offer = market_price*percentage/100\n",
    "print(f\"Insurance offer: {insurance_offer}\")\n",
    "\n",
    "    \n",
    "        \n",
    "\n"
   ]
  },
  {
   "cell_type": "code",
   "execution_count": null,
   "id": "c4a235b7",
   "metadata": {},
   "outputs": [],
   "source": []
  }
 ],
 "metadata": {
  "kernelspec": {
   "display_name": "Python 3 (ipykernel)",
   "language": "python",
   "name": "python3"
  },
  "language_info": {
   "codemirror_mode": {
    "name": "ipython",
    "version": 3
   },
   "file_extension": ".py",
   "mimetype": "text/x-python",
   "name": "python",
   "nbconvert_exporter": "python",
   "pygments_lexer": "ipython3",
   "version": "3.9.12"
  }
 },
 "nbformat": 4,
 "nbformat_minor": 5
}
