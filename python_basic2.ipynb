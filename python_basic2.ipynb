{
 "cells": [
  {
   "cell_type": "code",
   "execution_count": 1,
   "id": "2ebb7f63",
   "metadata": {},
   "outputs": [
    {
     "name": "stdout",
     "output_type": "stream",
     "text": [
      "enter your nameabc\n"
     ]
    }
   ],
   "source": [
    "name = input(\"enter your name\")"
   ]
  },
  {
   "cell_type": "code",
   "execution_count": 2,
   "id": "15b21fdb",
   "metadata": {},
   "outputs": [
    {
     "name": "stdout",
     "output_type": "stream",
     "text": [
      "abc\n"
     ]
    }
   ],
   "source": [
    "print(name)"
   ]
  },
  {
   "cell_type": "code",
   "execution_count": 6,
   "id": "3c21dd4e",
   "metadata": {},
   "outputs": [
    {
     "name": "stdout",
     "output_type": "stream",
     "text": [
      "Abc\n"
     ]
    }
   ],
   "source": [
    "t = name.capitalize()\n",
    "print(t)"
   ]
  },
  {
   "cell_type": "code",
   "execution_count": 7,
   "id": "bab128d0",
   "metadata": {},
   "outputs": [
    {
     "name": "stdout",
     "output_type": "stream",
     "text": [
      "Rune &Sune\n"
     ]
    }
   ],
   "source": [
    "print(\"Rune\", end = ' ')\n",
    "print(\"&Sune\")"
   ]
  },
  {
   "cell_type": "code",
   "execution_count": 9,
   "id": "7e94f2e5",
   "metadata": {},
   "outputs": [
    {
     "name": "stdout",
     "output_type": "stream",
     "text": [
      "what is your name?Rune\n",
      "Hello! Rune\n"
     ]
    }
   ],
   "source": [
    "name1 = input(\"what is your name?\")\n",
    "print(\"Hello!\", name1)"
   ]
  },
  {
   "cell_type": "code",
   "execution_count": 11,
   "id": "9f67bc04",
   "metadata": {},
   "outputs": [
    {
     "name": "stdout",
     "output_type": "stream",
     "text": [
      "what is your name?Rune\n",
      "I like capital letters RUNE\n"
     ]
    }
   ],
   "source": [
    "name2 = input(\"what is your name?\")\n",
    "print(\"I like capital letters\", name2.upper())"
   ]
  },
  {
   "cell_type": "code",
   "execution_count": 13,
   "id": "91286880",
   "metadata": {},
   "outputs": [
    {
     "name": "stdout",
     "output_type": "stream",
     "text": [
      "<class 'str'>\n",
      "<class 'int'>\n",
      "<class 'float'>\n"
     ]
    }
   ],
   "source": [
    "s1 = \"this is a string\"\n",
    "b = 2\n",
    "a1 = 9.9\n",
    "print(type(s1))\n",
    "print(type(b))\n",
    "print(type(a1))"
   ]
  },
  {
   "cell_type": "code",
   "execution_count": 14,
   "id": "3ded4161",
   "metadata": {},
   "outputs": [
    {
     "data": {
      "text/plain": [
       "8"
      ]
     },
     "execution_count": 14,
     "metadata": {},
     "output_type": "execute_result"
    }
   ],
   "source": [
    "pow(2,3)"
   ]
  },
  {
   "cell_type": "code",
   "execution_count": 15,
   "id": "e11c834c",
   "metadata": {},
   "outputs": [
    {
     "data": {
      "text/plain": [
       "8"
      ]
     },
     "execution_count": 15,
     "metadata": {},
     "output_type": "execute_result"
    }
   ],
   "source": [
    "2**3"
   ]
  },
  {
   "cell_type": "code",
   "execution_count": 18,
   "id": "b39bef67",
   "metadata": {},
   "outputs": [
    {
     "name": "stdout",
     "output_type": "stream",
     "text": [
      "i am a string I am another string\n"
     ]
    }
   ],
   "source": [
    "va1 = \"i am a string\"\n",
    "v2 = \"I am another string\"\n",
    "print(va1 + \" \" + v2)"
   ]
  },
  {
   "cell_type": "code",
   "execution_count": 19,
   "id": "52d0a18b",
   "metadata": {},
   "outputs": [
    {
     "name": "stdout",
     "output_type": "stream",
     "text": [
      "variables can be added within the sentences 46\n"
     ]
    }
   ],
   "source": [
    "sk = 44\n",
    "print(f\"variables can be added within the sentences {sk + 2}\")"
   ]
  },
  {
   "cell_type": "code",
   "execution_count": 20,
   "id": "af124347",
   "metadata": {},
   "outputs": [
    {
     "data": {
      "text/plain": [
       "False"
      ]
     },
     "execution_count": 20,
     "metadata": {},
     "output_type": "execute_result"
    }
   ],
   "source": [
    "bool(2>4)"
   ]
  },
  {
   "cell_type": "code",
   "execution_count": 22,
   "id": "0cf47d2c",
   "metadata": {},
   "outputs": [
    {
     "name": "stdout",
     "output_type": "stream",
     "text": [
      "What is your name? Rahul\n",
      "hello Rune\n",
      "what is your place of birth? kolkata\n",
      "you are Rune from kolkata and currently 26 years old\n"
     ]
    }
   ],
   "source": [
    "birth_year = 1996\n",
    "name = \"Rahul\"\n",
    "input(\"What is your name? \")\n",
    "print(f\"hello {name}\")\n",
    "bang = input(\"what is your place of birth? \")\n",
    "print(f\"you are {name} from {bang} and currently {2022 - birth_year} years old\")"
   ]
  },
  {
   "cell_type": "code",
   "execution_count": 25,
   "id": "c48fc594",
   "metadata": {},
   "outputs": [
    {
     "name": "stdout",
     "output_type": "stream",
     "text": [
      "string7.3\n"
     ]
    }
   ],
   "source": [
    "s = \"string\"\n",
    "i = 7.3\n",
    "print(s  + str(i))\n",
    "\n"
   ]
  },
  {
   "cell_type": "code",
   "execution_count": null,
   "id": "4c43f5d3",
   "metadata": {},
   "outputs": [],
   "source": []
  }
 ],
 "metadata": {
  "kernelspec": {
   "display_name": "Python 3 (ipykernel)",
   "language": "python",
   "name": "python3"
  },
  "language_info": {
   "codemirror_mode": {
    "name": "ipython",
    "version": 3
   },
   "file_extension": ".py",
   "mimetype": "text/x-python",
   "name": "python",
   "nbconvert_exporter": "python",
   "pygments_lexer": "ipython3",
   "version": "3.9.12"
  }
 },
 "nbformat": 4,
 "nbformat_minor": 5
}
