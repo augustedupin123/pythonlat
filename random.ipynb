{
 "cells": [
  {
   "cell_type": "markdown",
   "id": "40938c66",
   "metadata": {},
   "source": [
    "#Lists "
   ]
  },
  {
   "cell_type": "code",
   "execution_count": 1,
   "id": "2e3fb98a",
   "metadata": {},
   "outputs": [
    {
     "name": "stdout",
     "output_type": "stream",
     "text": [
      "['a', 'b', 'l', 'p']\n"
     ]
    }
   ],
   "source": [
    "list_1 = ['a', 'b']\n",
    "list_2 = ['l', 'p']\n",
    "new_list = list_1 + list_2\n",
    "print(new_list)"
   ]
  },
  {
   "cell_type": "code",
   "execution_count": 7,
   "id": "298dce74",
   "metadata": {},
   "outputs": [
    {
     "name": "stdout",
     "output_type": "stream",
     "text": [
      "b\n",
      "b\n",
      "p\n",
      "p\n",
      "['l', 'a', 'b', 'p']\n"
     ]
    }
   ],
   "source": [
    "import random\n",
    "print(random.choice(new_list))\n",
    "print(random.choice(new_list))\n",
    "print(random.choice(new_list))\n",
    "print(random.choice(new_list))\n",
    "random.shuffle(new_list)\n",
    "print(new_list)"
   ]
  },
  {
   "cell_type": "code",
   "execution_count": 8,
   "id": "204d7247",
   "metadata": {},
   "outputs": [
    {
     "data": {
      "text/plain": [
       "'l a b p'"
      ]
     },
     "execution_count": 8,
     "metadata": {},
     "output_type": "execute_result"
    }
   ],
   "source": [
    "' '.join(new_list)"
   ]
  },
  {
   "cell_type": "code",
   "execution_count": 9,
   "id": "a55ecab0",
   "metadata": {},
   "outputs": [
    {
     "data": {
      "text/plain": [
       "['g', 'e', 'r', 'c', 'e', 'e']"
      ]
     },
     "execution_count": 9,
     "metadata": {},
     "output_type": "execute_result"
    }
   ],
   "source": [
    "s = \"greece\"\n",
    "random.sample(s, len(s))"
   ]
  },
  {
   "cell_type": "code",
   "execution_count": null,
   "id": "e0201acc",
   "metadata": {},
   "outputs": [],
   "source": [
    "#max(), min(), sum(), len() are some of the inbuilt functions"
   ]
  }
 ],
 "metadata": {
  "kernelspec": {
   "display_name": "Python 3 (ipykernel)",
   "language": "python",
   "name": "python3"
  },
  "language_info": {
   "codemirror_mode": {
    "name": "ipython",
    "version": 3
   },
   "file_extension": ".py",
   "mimetype": "text/x-python",
   "name": "python",
   "nbconvert_exporter": "python",
   "pygments_lexer": "ipython3",
   "version": "3.9.12"
  }
 },
 "nbformat": 4,
 "nbformat_minor": 5
}
