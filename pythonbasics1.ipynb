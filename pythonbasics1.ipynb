{
 "cells": [
  {
   "cell_type": "code",
   "execution_count": 1,
   "id": "d3a5bb20",
   "metadata": {},
   "outputs": [
    {
     "name": "stdout",
     "output_type": "stream",
     "text": [
      "Hello world!\n"
     ]
    }
   ],
   "source": [
    "print(\"Hello world!\")"
   ]
  },
  {
   "cell_type": "code",
   "execution_count": 2,
   "id": "9ce0728b",
   "metadata": {},
   "outputs": [
    {
     "name": "stdout",
     "output_type": "stream",
     "text": [
      "hey 10 2.2\n"
     ]
    }
   ],
   "source": [
    "print(\"hey\", 10, 2.2)"
   ]
  },
  {
   "cell_type": "markdown",
   "id": "64052e5f",
   "metadata": {},
   "source": [
    "Below Code\n",
    "\n"
   ]
  },
  {
   "cell_type": "markdown",
   "id": "b575f06a",
   "metadata": {},
   "source": [
    "# Basics of Python"
   ]
  },
  {
   "cell_type": "code",
   "execution_count": 3,
   "id": "1c311a82",
   "metadata": {},
   "outputs": [
    {
     "name": "stdout",
     "output_type": "stream",
     "text": [
      "Rune\n"
     ]
    }
   ],
   "source": [
    "s = input()"
   ]
  },
  {
   "cell_type": "code",
   "execution_count": 4,
   "id": "a967a8c6",
   "metadata": {},
   "outputs": [
    {
     "name": "stdout",
     "output_type": "stream",
     "text": [
      "Rune\n"
     ]
    }
   ],
   "source": [
    "print(s)"
   ]
  },
  {
   "cell_type": "code",
   "execution_count": 5,
   "id": "c97ac715",
   "metadata": {},
   "outputs": [
    {
     "name": "stdout",
     "output_type": "stream",
     "text": [
      "what is your name?rune\n"
     ]
    }
   ],
   "source": [
    "s1 = input(\"what is your name?\")"
   ]
  },
  {
   "cell_type": "code",
   "execution_count": 6,
   "id": "4fe2a4ee",
   "metadata": {},
   "outputs": [
    {
     "name": "stdout",
     "output_type": "stream",
     "text": [
      "rune\n"
     ]
    }
   ],
   "source": [
    "print(s1)"
   ]
  },
  {
   "cell_type": "code",
   "execution_count": 11,
   "id": "970d401a",
   "metadata": {},
   "outputs": [
    {
     "name": "stdout",
     "output_type": "stream",
     "text": [
      "what is your nameabc\n",
      "hello abc\n",
      "how old are you123\n",
      "you are 123 years old\n"
     ]
    }
   ],
   "source": [
    "name = input(\"what is your name\")\n",
    "print(\"hello\", name)\n",
    "age = input(\"how old are you\")\n",
    "print(\"you are\", age ,\"years old\")"
   ]
  },
  {
   "cell_type": "code",
   "execution_count": 17,
   "id": "50bffdcb",
   "metadata": {},
   "outputs": [
    {
     "name": "stdout",
     "output_type": "stream",
     "text": [
      "what is your nameundertaker\n",
      "\n",
      "\n",
      "hello Undertaker\n",
      "hello UNDERTAKER\n",
      "\n",
      "\n",
      "how old are you23\n",
      "\n",
      "\n",
      "you are 23 years old\n"
     ]
    }
   ],
   "source": [
    "name = input(\"what is your name\")\n",
    "print(\"\\n\")\n",
    "print(\"hello\", name.capitalize())\n",
    "print(\"hello\", name.upper())\n",
    "print(\"\\n\")\n",
    "age = input(\"how old are you\")\n",
    "print(\"\\n\")\n",
    "print(\"you are\", age ,\"years old\")"
   ]
  },
  {
   "cell_type": "code",
   "execution_count": 18,
   "id": "d29013fd",
   "metadata": {},
   "outputs": [
    {
     "data": {
      "text/plain": [
       "True"
      ]
     },
     "execution_count": 18,
     "metadata": {},
     "output_type": "execute_result"
    }
   ],
   "source": [
    "\"223\".isdecimal()"
   ]
  },
  {
   "cell_type": "code",
   "execution_count": 19,
   "id": "c8f5db9a",
   "metadata": {},
   "outputs": [
    {
     "data": {
      "text/plain": [
       "False"
      ]
     },
     "execution_count": 19,
     "metadata": {},
     "output_type": "execute_result"
    }
   ],
   "source": [
    "\"Rune\".isdecimal()"
   ]
  },
  {
   "cell_type": "code",
   "execution_count": 20,
   "id": "a1c9c794",
   "metadata": {},
   "outputs": [
    {
     "name": "stdout",
     "output_type": "stream",
     "text": [
      "Rune\n"
     ]
    }
   ],
   "source": [
    "name = \"Rune\"\n",
    "name.replace(\"R\", \"S\")\n",
    "print(name)"
   ]
  },
  {
   "cell_type": "code",
   "execution_count": 21,
   "id": "dc4d19d3",
   "metadata": {},
   "outputs": [
    {
     "name": "stdout",
     "output_type": "stream",
     "text": [
      "Collecting package metadata (current_repodata.json): ...working... done\n",
      "Solving environment: ...working... done\n",
      "\n",
      "## Package Plan ##\n",
      "\n",
      "  environment location: C:\\Users\\Rahul\\anaconda3\n",
      "\n",
      "  added / updated specs:\n",
      "    - jupyter\n",
      "\n",
      "\n",
      "The following packages will be downloaded:\n",
      "\n",
      "    package                    |            build\n",
      "    ---------------------------|-----------------\n",
      "    conda-22.11.1              |   py39haa95532_4         892 KB\n",
      "    conda-package-handling-1.9.0|   py39h8cc25b3_1         744 KB\n",
      "    pyjwt-2.4.0                |   py39haa95532_0          38 KB\n",
      "    ruamel.yaml-0.17.21        |   py39h2bbff1b_0         174 KB\n",
      "    ruamel.yaml.clib-0.2.6     |   py39h2bbff1b_1         101 KB\n",
      "    ------------------------------------------------------------\n",
      "                                           Total:         1.9 MB\n",
      "\n",
      "The following NEW packages will be INSTALLED:\n",
      "\n",
      "  ruamel.yaml        pkgs/main/win-64::ruamel.yaml-0.17.21-py39h2bbff1b_0\n",
      "  ruamel.yaml.clib   pkgs/main/win-64::ruamel.yaml.clib-0.2.6-py39h2bbff1b_1\n",
      "\n",
      "The following packages will be UPDATED:\n",
      "\n",
      "  conda                               4.14.0-py39haa95532_0 --> 22.11.1-py39haa95532_4\n",
      "  conda-package-han~                   1.8.1-py39h8cc25b3_0 --> 1.9.0-py39h8cc25b3_1\n",
      "  pyjwt                                2.1.0-py39haa95532_0 --> 2.4.0-py39haa95532_0\n",
      "\n",
      "\n",
      "\n",
      "Downloading and Extracting Packages\n",
      "\n",
      "ruamel.yaml.clib-0.2 | 101 KB    |            |   0% \n",
      "ruamel.yaml.clib-0.2 | 101 KB    | ########## | 100% \n",
      "ruamel.yaml.clib-0.2 | 101 KB    | ########## | 100% \n",
      "\n",
      "conda-22.11.1        | 892 KB    |            |   0% \n",
      "conda-22.11.1        | 892 KB    | ########## | 100% \n",
      "conda-22.11.1        | 892 KB    | ########## | 100% \n",
      "\n",
      "pyjwt-2.4.0          | 38 KB     |            |   0% \n",
      "pyjwt-2.4.0          | 38 KB     | ########## | 100% \n",
      "pyjwt-2.4.0          | 38 KB     | ########## | 100% \n",
      "\n",
      "ruamel.yaml-0.17.21  | 174 KB    |            |   0% \n",
      "ruamel.yaml-0.17.21  | 174 KB    | ########## | 100% \n",
      "ruamel.yaml-0.17.21  | 174 KB    | ########## | 100% \n",
      "\n",
      "conda-package-handli | 744 KB    |            |   0% \n",
      "conda-package-handli | 744 KB    | ########## | 100% \n",
      "conda-package-handli | 744 KB    | ########## | 100% \n",
      "Preparing transaction: ...working... done\n",
      "Verifying transaction: ...working... done\n",
      "Executing transaction: ...working... done\n",
      "Retrieving notices: ...working... done\n",
      "\n",
      "Note: you may need to restart the kernel to use updated packages.\n"
     ]
    }
   ],
   "source": [
    "conda update jupyter\n"
   ]
  },
  {
   "cell_type": "code",
   "execution_count": 22,
   "id": "1ee12170",
   "metadata": {},
   "outputs": [
    {
     "name": "stdout",
     "output_type": "stream",
     "text": [
      "Requirement already satisfied: pip in c:\\users\\rahul\\anaconda3\\lib\\site-packages (21.2.4)\n",
      "Collecting pip\n",
      "  Downloading pip-22.3.1-py3-none-any.whl (2.1 MB)\n",
      "Installing collected packages: pip\n",
      "  Attempting uninstall: pip\n",
      "    Found existing installation: pip 21.2.4\n",
      "    Uninstalling pip-21.2.4:\n",
      "      Successfully uninstalled pip-21.2.4\n",
      "Successfully installed pip-22.3.1\n",
      "Note: you may need to restart the kernel to use updated packages.\n"
     ]
    }
   ],
   "source": [
    "pip install pip --upgrade\n"
   ]
  },
  {
   "cell_type": "code",
   "execution_count": null,
   "id": "821ccd04",
   "metadata": {},
   "outputs": [],
   "source": []
  }
 ],
 "metadata": {
  "kernelspec": {
   "display_name": "Python 3 (ipykernel)",
   "language": "python",
   "name": "python3"
  },
  "language_info": {
   "codemirror_mode": {
    "name": "ipython",
    "version": 3
   },
   "file_extension": ".py",
   "mimetype": "text/x-python",
   "name": "python",
   "nbconvert_exporter": "python",
   "pygments_lexer": "ipython3",
   "version": "3.9.12"
  }
 },
 "nbformat": 4,
 "nbformat_minor": 5
}
